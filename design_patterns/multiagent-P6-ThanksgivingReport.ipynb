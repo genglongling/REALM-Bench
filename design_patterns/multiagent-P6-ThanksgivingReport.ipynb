{
 "cells": [
  {
   "cell_type": "markdown",
   "id": "0acdc7c0-61bd-45a1-a040-df05c67ab0b2",
   "metadata": {},
   "source": [
    "# Multiagent Pattern - Multiagent Collaboration"
   ]
  },
  {
   "cell_type": "markdown",
   "id": "7ba71f3e-5421-4dd7-bc63-e3fcdf2680a6",
   "metadata": {},
   "source": [
    "<img src=\"../img/multi_agent_pattern.png\" alt=\"Alt text\" width=\"500\"/>\n",
    "\n",
    "We follow the concept of crewai with our implementation. We create a crew which is a structured group of AI agents that collaborate to complete complex tasks together. \n",
    "\n",
    "Each agent has a distinct role. We declare dependencies between agents. This way the output of one agent, can be the input for another agent.\n"
   ]
  },
  {
   "cell_type": "code",
   "execution_count": 1,
   "id": "b0d8290889f004b5",
   "metadata": {
    "ExecuteTime": {
     "end_time": "2025-02-17T02:30:09.506381Z",
     "start_time": "2025-02-17T02:30:09.013638Z"
    },
    "collapsed": false,
    "jupyter": {
     "outputs_hidden": false
    }
   },
   "outputs": [
    {
     "name": "stdout",
     "output_type": "stream",
     "text": [
      "Requirement already satisfied: pip in /Users/glin/Documents/GitHub/M-LLAP/venv2/lib/python3.10/site-packages (25.0.1)\n",
      "Note: you may need to restart the kernel to use updated packages.\n",
      "Requirement already satisfied: jupyter in /Users/glin/Documents/GitHub/M-LLAP/venv2/lib/python3.10/site-packages (1.1.1)\n",
      "Requirement already satisfied: ipykernel in /Users/glin/Documents/GitHub/M-LLAP/venv2/lib/python3.10/site-packages (6.29.5)\n",
      "Requirement already satisfied: notebook in /Users/glin/Documents/GitHub/M-LLAP/venv2/lib/python3.10/site-packages (from jupyter) (7.3.2)\n",
      "Requirement already satisfied: jupyter-console in /Users/glin/Documents/GitHub/M-LLAP/venv2/lib/python3.10/site-packages (from jupyter) (6.6.3)\n",
      "Requirement already satisfied: nbconvert in /Users/glin/Documents/GitHub/M-LLAP/venv2/lib/python3.10/site-packages (from jupyter) (7.16.6)\n",
      "Requirement already satisfied: ipywidgets in /Users/glin/Documents/GitHub/M-LLAP/venv2/lib/python3.10/site-packages (from jupyter) (8.1.5)\n",
      "Requirement already satisfied: jupyterlab in /Users/glin/Documents/GitHub/M-LLAP/venv2/lib/python3.10/site-packages (from jupyter) (4.3.5)\n",
      "Requirement already satisfied: appnope in /Users/glin/Documents/GitHub/M-LLAP/venv2/lib/python3.10/site-packages (from ipykernel) (0.1.4)\n",
      "Requirement already satisfied: comm>=0.1.1 in /Users/glin/Documents/GitHub/M-LLAP/venv2/lib/python3.10/site-packages (from ipykernel) (0.2.2)\n",
      "Requirement already satisfied: debugpy>=1.6.5 in /Users/glin/Documents/GitHub/M-LLAP/venv2/lib/python3.10/site-packages (from ipykernel) (1.8.12)\n",
      "Requirement already satisfied: ipython>=7.23.1 in /Users/glin/Documents/GitHub/M-LLAP/venv2/lib/python3.10/site-packages (from ipykernel) (8.32.0)\n",
      "Requirement already satisfied: jupyter-client>=6.1.12 in /Users/glin/Documents/GitHub/M-LLAP/venv2/lib/python3.10/site-packages (from ipykernel) (8.6.3)\n",
      "Requirement already satisfied: jupyter-core!=5.0.*,>=4.12 in /Users/glin/Documents/GitHub/M-LLAP/venv2/lib/python3.10/site-packages (from ipykernel) (5.7.2)\n",
      "Requirement already satisfied: matplotlib-inline>=0.1 in /Users/glin/Documents/GitHub/M-LLAP/venv2/lib/python3.10/site-packages (from ipykernel) (0.1.7)\n",
      "Requirement already satisfied: nest-asyncio in /Users/glin/Documents/GitHub/M-LLAP/venv2/lib/python3.10/site-packages (from ipykernel) (1.6.0)\n",
      "Requirement already satisfied: packaging in /Users/glin/Documents/GitHub/M-LLAP/venv2/lib/python3.10/site-packages (from ipykernel) (24.2)\n",
      "Requirement already satisfied: psutil in /Users/glin/Documents/GitHub/M-LLAP/venv2/lib/python3.10/site-packages (from ipykernel) (7.0.0)\n",
      "Requirement already satisfied: pyzmq>=24 in /Users/glin/Documents/GitHub/M-LLAP/venv2/lib/python3.10/site-packages (from ipykernel) (26.2.1)\n",
      "Requirement already satisfied: tornado>=6.1 in /Users/glin/Documents/GitHub/M-LLAP/venv2/lib/python3.10/site-packages (from ipykernel) (6.4.2)\n",
      "Requirement already satisfied: traitlets>=5.4.0 in /Users/glin/Documents/GitHub/M-LLAP/venv2/lib/python3.10/site-packages (from ipykernel) (5.14.3)\n",
      "Requirement already satisfied: decorator in /Users/glin/Documents/GitHub/M-LLAP/venv2/lib/python3.10/site-packages (from ipython>=7.23.1->ipykernel) (5.1.1)\n",
      "Requirement already satisfied: exceptiongroup in /Users/glin/Documents/GitHub/M-LLAP/venv2/lib/python3.10/site-packages (from ipython>=7.23.1->ipykernel) (1.2.2)\n",
      "Requirement already satisfied: jedi>=0.16 in /Users/glin/Documents/GitHub/M-LLAP/venv2/lib/python3.10/site-packages (from ipython>=7.23.1->ipykernel) (0.19.2)\n",
      "Requirement already satisfied: pexpect>4.3 in /Users/glin/Documents/GitHub/M-LLAP/venv2/lib/python3.10/site-packages (from ipython>=7.23.1->ipykernel) (4.9.0)\n",
      "Requirement already satisfied: prompt_toolkit<3.1.0,>=3.0.41 in /Users/glin/Documents/GitHub/M-LLAP/venv2/lib/python3.10/site-packages (from ipython>=7.23.1->ipykernel) (3.0.50)\n",
      "Requirement already satisfied: pygments>=2.4.0 in /Users/glin/Documents/GitHub/M-LLAP/venv2/lib/python3.10/site-packages (from ipython>=7.23.1->ipykernel) (2.19.1)\n",
      "Requirement already satisfied: stack_data in /Users/glin/Documents/GitHub/M-LLAP/venv2/lib/python3.10/site-packages (from ipython>=7.23.1->ipykernel) (0.6.3)\n",
      "Requirement already satisfied: typing_extensions>=4.6 in /Users/glin/Documents/GitHub/M-LLAP/venv2/lib/python3.10/site-packages (from ipython>=7.23.1->ipykernel) (4.12.2)\n",
      "Requirement already satisfied: python-dateutil>=2.8.2 in /Users/glin/Documents/GitHub/M-LLAP/venv2/lib/python3.10/site-packages (from jupyter-client>=6.1.12->ipykernel) (2.9.0.post0)\n",
      "Requirement already satisfied: platformdirs>=2.5 in /Users/glin/Documents/GitHub/M-LLAP/venv2/lib/python3.10/site-packages (from jupyter-core!=5.0.*,>=4.12->ipykernel) (4.3.6)\n",
      "Requirement already satisfied: widgetsnbextension~=4.0.12 in /Users/glin/Documents/GitHub/M-LLAP/venv2/lib/python3.10/site-packages (from ipywidgets->jupyter) (4.0.13)\n",
      "Requirement already satisfied: jupyterlab-widgets~=3.0.12 in /Users/glin/Documents/GitHub/M-LLAP/venv2/lib/python3.10/site-packages (from ipywidgets->jupyter) (3.0.13)\n",
      "Requirement already satisfied: async-lru>=1.0.0 in /Users/glin/Documents/GitHub/M-LLAP/venv2/lib/python3.10/site-packages (from jupyterlab->jupyter) (2.0.4)\n",
      "Requirement already satisfied: httpx>=0.25.0 in /Users/glin/Documents/GitHub/M-LLAP/venv2/lib/python3.10/site-packages (from jupyterlab->jupyter) (0.28.1)\n",
      "Requirement already satisfied: jinja2>=3.0.3 in /Users/glin/Documents/GitHub/M-LLAP/venv2/lib/python3.10/site-packages (from jupyterlab->jupyter) (3.1.5)\n",
      "Requirement already satisfied: jupyter-lsp>=2.0.0 in /Users/glin/Documents/GitHub/M-LLAP/venv2/lib/python3.10/site-packages (from jupyterlab->jupyter) (2.2.5)\n",
      "Requirement already satisfied: jupyter-server<3,>=2.4.0 in /Users/glin/Documents/GitHub/M-LLAP/venv2/lib/python3.10/site-packages (from jupyterlab->jupyter) (2.15.0)\n",
      "Requirement already satisfied: jupyterlab-server<3,>=2.27.1 in /Users/glin/Documents/GitHub/M-LLAP/venv2/lib/python3.10/site-packages (from jupyterlab->jupyter) (2.27.3)\n",
      "Requirement already satisfied: notebook-shim>=0.2 in /Users/glin/Documents/GitHub/M-LLAP/venv2/lib/python3.10/site-packages (from jupyterlab->jupyter) (0.2.4)\n",
      "Requirement already satisfied: setuptools>=40.8.0 in /Users/glin/Documents/GitHub/M-LLAP/venv2/lib/python3.10/site-packages (from jupyterlab->jupyter) (65.5.1)\n",
      "Requirement already satisfied: tomli>=1.2.2 in /Users/glin/Documents/GitHub/M-LLAP/venv2/lib/python3.10/site-packages (from jupyterlab->jupyter) (2.2.1)\n",
      "Requirement already satisfied: beautifulsoup4 in /Users/glin/Documents/GitHub/M-LLAP/venv2/lib/python3.10/site-packages (from nbconvert->jupyter) (4.13.3)\n",
      "Requirement already satisfied: bleach!=5.0.0 in /Users/glin/Documents/GitHub/M-LLAP/venv2/lib/python3.10/site-packages (from bleach[css]!=5.0.0->nbconvert->jupyter) (6.2.0)\n",
      "Requirement already satisfied: defusedxml in /Users/glin/Documents/GitHub/M-LLAP/venv2/lib/python3.10/site-packages (from nbconvert->jupyter) (0.7.1)\n",
      "Requirement already satisfied: jupyterlab-pygments in /Users/glin/Documents/GitHub/M-LLAP/venv2/lib/python3.10/site-packages (from nbconvert->jupyter) (0.3.0)\n",
      "Requirement already satisfied: markupsafe>=2.0 in /Users/glin/Documents/GitHub/M-LLAP/venv2/lib/python3.10/site-packages (from nbconvert->jupyter) (3.0.2)\n",
      "Requirement already satisfied: mistune<4,>=2.0.3 in /Users/glin/Documents/GitHub/M-LLAP/venv2/lib/python3.10/site-packages (from nbconvert->jupyter) (3.1.1)\n",
      "Requirement already satisfied: nbclient>=0.5.0 in /Users/glin/Documents/GitHub/M-LLAP/venv2/lib/python3.10/site-packages (from nbconvert->jupyter) (0.10.2)\n",
      "Requirement already satisfied: nbformat>=5.7 in /Users/glin/Documents/GitHub/M-LLAP/venv2/lib/python3.10/site-packages (from nbconvert->jupyter) (5.10.4)\n",
      "Requirement already satisfied: pandocfilters>=1.4.1 in /Users/glin/Documents/GitHub/M-LLAP/venv2/lib/python3.10/site-packages (from nbconvert->jupyter) (1.5.1)\n",
      "Requirement already satisfied: webencodings in /Users/glin/Documents/GitHub/M-LLAP/venv2/lib/python3.10/site-packages (from bleach!=5.0.0->bleach[css]!=5.0.0->nbconvert->jupyter) (0.5.1)\n",
      "Requirement already satisfied: tinycss2<1.5,>=1.1.0 in /Users/glin/Documents/GitHub/M-LLAP/venv2/lib/python3.10/site-packages (from bleach[css]!=5.0.0->nbconvert->jupyter) (1.4.0)\n",
      "Requirement already satisfied: anyio in /Users/glin/Documents/GitHub/M-LLAP/venv2/lib/python3.10/site-packages (from httpx>=0.25.0->jupyterlab->jupyter) (4.8.0)\n",
      "Requirement already satisfied: certifi in /Users/glin/Documents/GitHub/M-LLAP/venv2/lib/python3.10/site-packages (from httpx>=0.25.0->jupyterlab->jupyter) (2025.1.31)\n",
      "Requirement already satisfied: httpcore==1.* in /Users/glin/Documents/GitHub/M-LLAP/venv2/lib/python3.10/site-packages (from httpx>=0.25.0->jupyterlab->jupyter) (1.0.7)\n",
      "Requirement already satisfied: idna in /Users/glin/Documents/GitHub/M-LLAP/venv2/lib/python3.10/site-packages (from httpx>=0.25.0->jupyterlab->jupyter) (3.10)\n",
      "Requirement already satisfied: h11<0.15,>=0.13 in /Users/glin/Documents/GitHub/M-LLAP/venv2/lib/python3.10/site-packages (from httpcore==1.*->httpx>=0.25.0->jupyterlab->jupyter) (0.14.0)\n",
      "Requirement already satisfied: parso<0.9.0,>=0.8.4 in /Users/glin/Documents/GitHub/M-LLAP/venv2/lib/python3.10/site-packages (from jedi>=0.16->ipython>=7.23.1->ipykernel) (0.8.4)\n",
      "Requirement already satisfied: argon2-cffi>=21.1 in /Users/glin/Documents/GitHub/M-LLAP/venv2/lib/python3.10/site-packages (from jupyter-server<3,>=2.4.0->jupyterlab->jupyter) (23.1.0)\n",
      "Requirement already satisfied: jupyter-events>=0.11.0 in /Users/glin/Documents/GitHub/M-LLAP/venv2/lib/python3.10/site-packages (from jupyter-server<3,>=2.4.0->jupyterlab->jupyter) (0.12.0)\n",
      "Requirement already satisfied: jupyter-server-terminals>=0.4.4 in /Users/glin/Documents/GitHub/M-LLAP/venv2/lib/python3.10/site-packages (from jupyter-server<3,>=2.4.0->jupyterlab->jupyter) (0.5.3)\n",
      "Requirement already satisfied: overrides>=5.0 in /Users/glin/Documents/GitHub/M-LLAP/venv2/lib/python3.10/site-packages (from jupyter-server<3,>=2.4.0->jupyterlab->jupyter) (7.7.0)\n",
      "Requirement already satisfied: prometheus-client>=0.9 in /Users/glin/Documents/GitHub/M-LLAP/venv2/lib/python3.10/site-packages (from jupyter-server<3,>=2.4.0->jupyterlab->jupyter) (0.21.1)\n",
      "Requirement already satisfied: send2trash>=1.8.2 in /Users/glin/Documents/GitHub/M-LLAP/venv2/lib/python3.10/site-packages (from jupyter-server<3,>=2.4.0->jupyterlab->jupyter) (1.8.3)\n",
      "Requirement already satisfied: terminado>=0.8.3 in /Users/glin/Documents/GitHub/M-LLAP/venv2/lib/python3.10/site-packages (from jupyter-server<3,>=2.4.0->jupyterlab->jupyter) (0.18.1)\n",
      "Requirement already satisfied: websocket-client>=1.7 in /Users/glin/Documents/GitHub/M-LLAP/venv2/lib/python3.10/site-packages (from jupyter-server<3,>=2.4.0->jupyterlab->jupyter) (1.8.0)\n",
      "Requirement already satisfied: babel>=2.10 in /Users/glin/Documents/GitHub/M-LLAP/venv2/lib/python3.10/site-packages (from jupyterlab-server<3,>=2.27.1->jupyterlab->jupyter) (2.17.0)\n",
      "Requirement already satisfied: json5>=0.9.0 in /Users/glin/Documents/GitHub/M-LLAP/venv2/lib/python3.10/site-packages (from jupyterlab-server<3,>=2.27.1->jupyterlab->jupyter) (0.10.0)\n",
      "Requirement already satisfied: jsonschema>=4.18.0 in /Users/glin/Documents/GitHub/M-LLAP/venv2/lib/python3.10/site-packages (from jupyterlab-server<3,>=2.27.1->jupyterlab->jupyter) (4.23.0)\n",
      "Requirement already satisfied: requests>=2.31 in /Users/glin/Documents/GitHub/M-LLAP/venv2/lib/python3.10/site-packages (from jupyterlab-server<3,>=2.27.1->jupyterlab->jupyter) (2.32.3)\n",
      "Requirement already satisfied: fastjsonschema>=2.15 in /Users/glin/Documents/GitHub/M-LLAP/venv2/lib/python3.10/site-packages (from nbformat>=5.7->nbconvert->jupyter) (2.21.1)\n",
      "Requirement already satisfied: ptyprocess>=0.5 in /Users/glin/Documents/GitHub/M-LLAP/venv2/lib/python3.10/site-packages (from pexpect>4.3->ipython>=7.23.1->ipykernel) (0.7.0)\n",
      "Requirement already satisfied: wcwidth in /Users/glin/Documents/GitHub/M-LLAP/venv2/lib/python3.10/site-packages (from prompt_toolkit<3.1.0,>=3.0.41->ipython>=7.23.1->ipykernel) (0.2.13)\n",
      "Requirement already satisfied: six>=1.5 in /Users/glin/Documents/GitHub/M-LLAP/venv2/lib/python3.10/site-packages (from python-dateutil>=2.8.2->jupyter-client>=6.1.12->ipykernel) (1.17.0)\n",
      "Requirement already satisfied: soupsieve>1.2 in /Users/glin/Documents/GitHub/M-LLAP/venv2/lib/python3.10/site-packages (from beautifulsoup4->nbconvert->jupyter) (2.6)\n",
      "Requirement already satisfied: executing>=1.2.0 in /Users/glin/Documents/GitHub/M-LLAP/venv2/lib/python3.10/site-packages (from stack_data->ipython>=7.23.1->ipykernel) (2.2.0)\n",
      "Requirement already satisfied: asttokens>=2.1.0 in /Users/glin/Documents/GitHub/M-LLAP/venv2/lib/python3.10/site-packages (from stack_data->ipython>=7.23.1->ipykernel) (3.0.0)\n",
      "Requirement already satisfied: pure-eval in /Users/glin/Documents/GitHub/M-LLAP/venv2/lib/python3.10/site-packages (from stack_data->ipython>=7.23.1->ipykernel) (0.2.3)\n",
      "Requirement already satisfied: sniffio>=1.1 in /Users/glin/Documents/GitHub/M-LLAP/venv2/lib/python3.10/site-packages (from anyio->httpx>=0.25.0->jupyterlab->jupyter) (1.3.1)\n",
      "Requirement already satisfied: argon2-cffi-bindings in /Users/glin/Documents/GitHub/M-LLAP/venv2/lib/python3.10/site-packages (from argon2-cffi>=21.1->jupyter-server<3,>=2.4.0->jupyterlab->jupyter) (21.2.0)\n",
      "Requirement already satisfied: attrs>=22.2.0 in /Users/glin/Documents/GitHub/M-LLAP/venv2/lib/python3.10/site-packages (from jsonschema>=4.18.0->jupyterlab-server<3,>=2.27.1->jupyterlab->jupyter) (25.1.0)\n",
      "Requirement already satisfied: jsonschema-specifications>=2023.03.6 in /Users/glin/Documents/GitHub/M-LLAP/venv2/lib/python3.10/site-packages (from jsonschema>=4.18.0->jupyterlab-server<3,>=2.27.1->jupyterlab->jupyter) (2024.10.1)\n",
      "Requirement already satisfied: referencing>=0.28.4 in /Users/glin/Documents/GitHub/M-LLAP/venv2/lib/python3.10/site-packages (from jsonschema>=4.18.0->jupyterlab-server<3,>=2.27.1->jupyterlab->jupyter) (0.36.2)\n",
      "Requirement already satisfied: rpds-py>=0.7.1 in /Users/glin/Documents/GitHub/M-LLAP/venv2/lib/python3.10/site-packages (from jsonschema>=4.18.0->jupyterlab-server<3,>=2.27.1->jupyterlab->jupyter) (0.22.3)\n",
      "Requirement already satisfied: python-json-logger>=2.0.4 in /Users/glin/Documents/GitHub/M-LLAP/venv2/lib/python3.10/site-packages (from jupyter-events>=0.11.0->jupyter-server<3,>=2.4.0->jupyterlab->jupyter) (3.2.1)\n",
      "Requirement already satisfied: pyyaml>=5.3 in /Users/glin/Documents/GitHub/M-LLAP/venv2/lib/python3.10/site-packages (from jupyter-events>=0.11.0->jupyter-server<3,>=2.4.0->jupyterlab->jupyter) (6.0.2)\n",
      "Requirement already satisfied: rfc3339-validator in /Users/glin/Documents/GitHub/M-LLAP/venv2/lib/python3.10/site-packages (from jupyter-events>=0.11.0->jupyter-server<3,>=2.4.0->jupyterlab->jupyter) (0.1.4)\n",
      "Requirement already satisfied: rfc3986-validator>=0.1.1 in /Users/glin/Documents/GitHub/M-LLAP/venv2/lib/python3.10/site-packages (from jupyter-events>=0.11.0->jupyter-server<3,>=2.4.0->jupyterlab->jupyter) (0.1.1)\n",
      "Requirement already satisfied: charset-normalizer<4,>=2 in /Users/glin/Documents/GitHub/M-LLAP/venv2/lib/python3.10/site-packages (from requests>=2.31->jupyterlab-server<3,>=2.27.1->jupyterlab->jupyter) (3.4.1)\n",
      "Requirement already satisfied: urllib3<3,>=1.21.1 in /Users/glin/Documents/GitHub/M-LLAP/venv2/lib/python3.10/site-packages (from requests>=2.31->jupyterlab-server<3,>=2.27.1->jupyterlab->jupyter) (2.3.0)\n",
      "Requirement already satisfied: fqdn in /Users/glin/Documents/GitHub/M-LLAP/venv2/lib/python3.10/site-packages (from jsonschema[format-nongpl]>=4.18.0->jupyter-events>=0.11.0->jupyter-server<3,>=2.4.0->jupyterlab->jupyter) (1.5.1)\n",
      "Requirement already satisfied: isoduration in /Users/glin/Documents/GitHub/M-LLAP/venv2/lib/python3.10/site-packages (from jsonschema[format-nongpl]>=4.18.0->jupyter-events>=0.11.0->jupyter-server<3,>=2.4.0->jupyterlab->jupyter) (20.11.0)\n",
      "Requirement already satisfied: jsonpointer>1.13 in /Users/glin/Documents/GitHub/M-LLAP/venv2/lib/python3.10/site-packages (from jsonschema[format-nongpl]>=4.18.0->jupyter-events>=0.11.0->jupyter-server<3,>=2.4.0->jupyterlab->jupyter) (3.0.0)\n",
      "Requirement already satisfied: uri-template in /Users/glin/Documents/GitHub/M-LLAP/venv2/lib/python3.10/site-packages (from jsonschema[format-nongpl]>=4.18.0->jupyter-events>=0.11.0->jupyter-server<3,>=2.4.0->jupyterlab->jupyter) (1.3.0)\n",
      "Requirement already satisfied: webcolors>=24.6.0 in /Users/glin/Documents/GitHub/M-LLAP/venv2/lib/python3.10/site-packages (from jsonschema[format-nongpl]>=4.18.0->jupyter-events>=0.11.0->jupyter-server<3,>=2.4.0->jupyterlab->jupyter) (24.11.1)\n",
      "Requirement already satisfied: cffi>=1.0.1 in /Users/glin/Documents/GitHub/M-LLAP/venv2/lib/python3.10/site-packages (from argon2-cffi-bindings->argon2-cffi>=21.1->jupyter-server<3,>=2.4.0->jupyterlab->jupyter) (1.17.1)\n",
      "Requirement already satisfied: pycparser in /Users/glin/Documents/GitHub/M-LLAP/venv2/lib/python3.10/site-packages (from cffi>=1.0.1->argon2-cffi-bindings->argon2-cffi>=21.1->jupyter-server<3,>=2.4.0->jupyterlab->jupyter) (2.22)\n",
      "Requirement already satisfied: arrow>=0.15.0 in /Users/glin/Documents/GitHub/M-LLAP/venv2/lib/python3.10/site-packages (from isoduration->jsonschema[format-nongpl]>=4.18.0->jupyter-events>=0.11.0->jupyter-server<3,>=2.4.0->jupyterlab->jupyter) (1.3.0)\n",
      "Requirement already satisfied: types-python-dateutil>=2.8.10 in /Users/glin/Documents/GitHub/M-LLAP/venv2/lib/python3.10/site-packages (from arrow>=0.15.0->isoduration->jsonschema[format-nongpl]>=4.18.0->jupyter-events>=0.11.0->jupyter-server<3,>=2.4.0->jupyterlab->jupyter) (2.9.0.20241206)\n",
      "Note: you may need to restart the kernel to use updated packages.\n"
     ]
    },
    {
     "name": "stderr",
     "output_type": "stream",
     "text": [
      "UsageError: Line magic function `%%python3` not found.\n"
     ]
    }
   ],
   "source": [
    "#%pip install -r requirements.txt\n",
    "%pip install --upgrade pip\n",
    "%pip install jupyter ipykernel\n",
    "%%python3 -m ipykernel install --user --name=python310 --display-name \"Python 3.10\"\n"
   ]
  },
  {
   "cell_type": "code",
   "execution_count": 2,
   "id": "2c41bae5-b1db-44b6-b8e6-04020e8fb0a7",
   "metadata": {
    "ExecuteTime": {
     "end_time": "2025-02-17T02:30:00.707670Z",
     "start_time": "2025-02-17T02:30:00.688390Z"
    }
   },
   "outputs": [
    {
     "name": "stdout",
     "output_type": "stream",
     "text": [
      "Python version: 3.10.14 (main, Mar 19 2024, 21:46:16) [Clang 15.0.0 (clang-1500.1.0.2.5)]\n"
     ]
    }
   ],
   "source": [
    "import sys\n",
    "print(\"Python version:\", sys.version)"
   ]
  },
  {
   "cell_type": "code",
   "execution_count": 3,
   "id": "fcacfc9f-15a4-47af-b527-85de17b2e030",
   "metadata": {},
   "outputs": [
    {
     "name": "stdout",
     "output_type": "stream",
     "text": [
      "Requirement already satisfied: openai in /Users/glin/Documents/GitHub/M-LLAP/venv2/lib/python3.10/site-packages (1.63.0)\n",
      "Requirement already satisfied: python-dotenv in /Users/glin/Documents/GitHub/M-LLAP/venv2/lib/python3.10/site-packages (1.0.1)\n",
      "Requirement already satisfied: graphviz in /Users/glin/Documents/GitHub/M-LLAP/venv2/lib/python3.10/site-packages (0.20.3)\n",
      "Requirement already satisfied: colorama in /Users/glin/Documents/GitHub/M-LLAP/venv2/lib/python3.10/site-packages (0.4.6)\n",
      "Requirement already satisfied: anyio<5,>=3.5.0 in /Users/glin/Documents/GitHub/M-LLAP/venv2/lib/python3.10/site-packages (from openai) (4.8.0)\n",
      "Requirement already satisfied: distro<2,>=1.7.0 in /Users/glin/Documents/GitHub/M-LLAP/venv2/lib/python3.10/site-packages (from openai) (1.9.0)\n",
      "Requirement already satisfied: httpx<1,>=0.23.0 in /Users/glin/Documents/GitHub/M-LLAP/venv2/lib/python3.10/site-packages (from openai) (0.28.1)\n",
      "Requirement already satisfied: jiter<1,>=0.4.0 in /Users/glin/Documents/GitHub/M-LLAP/venv2/lib/python3.10/site-packages (from openai) (0.8.2)\n",
      "Requirement already satisfied: pydantic<3,>=1.9.0 in /Users/glin/Documents/GitHub/M-LLAP/venv2/lib/python3.10/site-packages (from openai) (2.10.6)\n",
      "Requirement already satisfied: sniffio in /Users/glin/Documents/GitHub/M-LLAP/venv2/lib/python3.10/site-packages (from openai) (1.3.1)\n",
      "Requirement already satisfied: tqdm>4 in /Users/glin/Documents/GitHub/M-LLAP/venv2/lib/python3.10/site-packages (from openai) (4.67.1)\n",
      "Requirement already satisfied: typing-extensions<5,>=4.11 in /Users/glin/Documents/GitHub/M-LLAP/venv2/lib/python3.10/site-packages (from openai) (4.12.2)\n",
      "Requirement already satisfied: exceptiongroup>=1.0.2 in /Users/glin/Documents/GitHub/M-LLAP/venv2/lib/python3.10/site-packages (from anyio<5,>=3.5.0->openai) (1.2.2)\n",
      "Requirement already satisfied: idna>=2.8 in /Users/glin/Documents/GitHub/M-LLAP/venv2/lib/python3.10/site-packages (from anyio<5,>=3.5.0->openai) (3.10)\n",
      "Requirement already satisfied: certifi in /Users/glin/Documents/GitHub/M-LLAP/venv2/lib/python3.10/site-packages (from httpx<1,>=0.23.0->openai) (2025.1.31)\n",
      "Requirement already satisfied: httpcore==1.* in /Users/glin/Documents/GitHub/M-LLAP/venv2/lib/python3.10/site-packages (from httpx<1,>=0.23.0->openai) (1.0.7)\n",
      "Requirement already satisfied: h11<0.15,>=0.13 in /Users/glin/Documents/GitHub/M-LLAP/venv2/lib/python3.10/site-packages (from httpcore==1.*->httpx<1,>=0.23.0->openai) (0.14.0)\n",
      "Requirement already satisfied: annotated-types>=0.6.0 in /Users/glin/Documents/GitHub/M-LLAP/venv2/lib/python3.10/site-packages (from pydantic<3,>=1.9.0->openai) (0.7.0)\n",
      "Requirement already satisfied: pydantic-core==2.27.2 in /Users/glin/Documents/GitHub/M-LLAP/venv2/lib/python3.10/site-packages (from pydantic<3,>=1.9.0->openai) (2.27.2)\n",
      "Note: you may need to restart the kernel to use updated packages.\n"
     ]
    }
   ],
   "source": [
    "%pip install openai python-dotenv graphviz colorama"
   ]
  },
  {
   "cell_type": "code",
   "execution_count": 4,
   "id": "a6569e533723a33",
   "metadata": {
    "ExecuteTime": {
     "end_time": "2025-02-17T02:30:18.639395Z",
     "start_time": "2025-02-17T02:30:18.623340Z"
    },
    "collapsed": false,
    "jupyter": {
     "outputs_hidden": false
    }
   },
   "outputs": [
    {
     "name": "stdout",
     "output_type": "stream",
     "text": [
      "✅ All dependencies installed successfully!\n"
     ]
    }
   ],
   "source": [
    "import openai\n",
    "import dotenv\n",
    "import graphviz\n",
    "import colorama\n",
    "print(\"✅ All dependencies installed successfully!\")"
   ]
  },
  {
   "cell_type": "code",
   "execution_count": 5,
   "id": "4e1e0975a9cfb798",
   "metadata": {
    "ExecuteTime": {
     "end_time": "2025-02-17T02:30:20.657244Z",
     "start_time": "2025-02-17T02:30:20.640349Z"
    },
    "collapsed": false,
    "jupyter": {
     "outputs_hidden": false
    }
   },
   "outputs": [
    {
     "name": "stdout",
     "output_type": "stream",
     "text": [
      "Updated sys.path: ['/usr/local/Cellar/python@3.10/3.10.14/Frameworks/Python.framework/Versions/3.10/lib/python310.zip', '/usr/local/Cellar/python@3.10/3.10.14/Frameworks/Python.framework/Versions/3.10/lib/python3.10', '/usr/local/Cellar/python@3.10/3.10.14/Frameworks/Python.framework/Versions/3.10/lib/python3.10/lib-dynload', '', '/Users/glin/Documents/GitHub/M-LLAP/venv2/lib/python3.10/site-packages', '/Users/glin/Documents/GitHub/M-LLAP/design_patterns/src']\n"
     ]
    }
   ],
   "source": [
    "import sys\n",
    "import os\n",
    "\n",
    "project_root = os.getcwd()\n",
    "src_path = os.path.join(project_root, \"src\")\n",
    "if src_path not in sys.path:\n",
    "    sys.path.append(src_path)\n",
    "\n",
    "print(\"Updated sys.path:\", sys.path)"
   ]
  },
  {
   "cell_type": "markdown",
   "id": "f786e114-cde4-400e-8781-fb7f48bd072c",
   "metadata": {},
   "source": [
    "## The Agent Class"
   ]
  },
  {
   "cell_type": "markdown",
   "id": "ec27b59f-82c6-4b21-917c-fa6d64c1e614",
   "metadata": {},
   "source": [
    "First of all, we need an **Agent Class**. This class implements an Agent, and internally it implements the ReAct technique."
   ]
  },
  {
   "cell_type": "code",
   "execution_count": 6,
   "id": "69780ba5-c321-4d71-b0aa-35b1d6c55ff3",
   "metadata": {
    "ExecuteTime": {
     "end_time": "2025-02-17T02:30:25.401302Z",
     "start_time": "2025-02-17T02:30:25.387369Z"
    }
   },
   "outputs": [
    {
     "name": "stdout",
     "output_type": "stream",
     "text": [
      "API Key set: True\n"
     ]
    }
   ],
   "source": [
    "import sys\n",
    "import os\n",
    "os.environ[\"OPENAI_API_KEY\"]=\" \"\n",
    "print(\"API Key set:\", os.getenv(\"OPENAI_API_KEY\") is not None)\n"
   ]
  },
  {
   "cell_type": "code",
   "execution_count": 7,
   "id": "3ccb0001842f2bb4",
   "metadata": {
    "ExecuteTime": {
     "end_time": "2025-02-17T02:30:27.275139Z",
     "start_time": "2025-02-17T02:30:27.205293Z"
    },
    "collapsed": false,
    "jupyter": {
     "outputs_hidden": false
    }
   },
   "outputs": [
    {
     "name": "stdout",
     "output_type": "stream",
     "text": [
      "✅ Agent imported successfully!\n"
     ]
    }
   ],
   "source": [
    "sys.path.append(os.path.abspath(os.path.join(os.getcwd(), '..')))\n",
    "from src.multi_agent.agent import Agent\n",
    "print(\"✅ Agent imported successfully!\")"
   ]
  },
  {
   "cell_type": "code",
   "execution_count": null,
   "id": "edcb0c3ca964902",
   "metadata": {
    "collapsed": false,
    "jupyter": {
     "outputs_hidden": false
    }
   },
   "outputs": [],
   "source": []
  },
  {
   "cell_type": "markdown",
   "id": "6ba412fb-9604-4146-93bb-ed0451c529f8",
   "metadata": {},
   "source": [
    "Let's create some example agent, to see how it works."
   ]
  },
  {
   "cell_type": "markdown",
   "id": "a8e0e4aa-cce0-4648-a6fd-eac244662874",
   "metadata": {},
   "source": [
    "You can also associate tools with the agent. Let's create a tool for writing some string into a CSV."
   ]
  },
  {
   "cell_type": "code",
   "execution_count": 8,
   "id": "b7fae777-3bf6-4be5-8ab8-de79f545d25a",
   "metadata": {},
   "outputs": [],
   "source": [
    "from src.tool_agent.tool import tool"
   ]
  },
  {
   "cell_type": "code",
   "execution_count": 9,
   "id": "4016dc0d-cc7f-4e7a-b971-2ecfd31b79cf",
   "metadata": {},
   "outputs": [],
   "source": [
    "@tool\n",
    "def write_str_to_txt(string_data: str, txt_filename: str):\n",
    "    \"\"\"\n",
    "    Writes a string to a txt file.\n",
    "\n",
    "    This function takes a string and writes it to a text file. If the file already exists, \n",
    "    it will be overwritten with the new data.\n",
    "\n",
    "    Args:\n",
    "        string_data (str): The string containing the data to be written to the file.\n",
    "        txt_filename (str): The name of the text file to which the data should be written.\n",
    "    \"\"\"\n",
    "    # Write the string data to the text file\n",
    "    with open(txt_filename, mode='w', encoding='utf-8') as file:\n",
    "        file.write(string_data)\n",
    "\n",
    "    print(f\"Data successfully written to {txt_filename}\")"
   ]
  },
  {
   "cell_type": "code",
   "execution_count": 16,
   "id": "7ed9d5c5-6a1a-4510-85a1-5c03c2d2fa37",
   "metadata": {},
   "outputs": [],
   "source": [
    "agent_tool_example = Agent(\n",
    "    name=\"Writer Agent\",\n",
    "    backstory=\"You are a language model specialised in writing text into .txt files\",\n",
    "    task_description=\"Write the string 'This is a Tool Agent' into './tool_agent_example.txt'\",\n",
    "    task_expected_output=\"A .txt file containing the given string\",\n",
    "    tools=write_str_to_txt,\n",
    ")"
   ]
  },
  {
   "cell_type": "code",
   "execution_count": 17,
   "id": "a6214dc3-e24f-430c-99f0-6a8fe484d8ba",
   "metadata": {},
   "outputs": [
    {
     "name": "stdout",
     "output_type": "stream",
     "text": [
      "\u001b[35m\n",
      "Thought: I need to write the string 'This is a Tool Agent' into a text file named 'tool_agent_example.txt'.\n",
      "\u001b[32m\n",
      "Using Tool: write_str_to_txt\n",
      "\u001b[32m\n",
      "Tool call dict: \n",
      "{'name': 'write_str_to_txt', 'arguments': {'string_data': 'This is a Tool Agent', 'txt_filename': 'tool_agent_example.txt'}, 'id': 0}\n",
      "Data successfully written to tool_agent_example.txt\n",
      "\u001b[32m\n",
      "Tool result: \n",
      "None\n",
      "\u001b[34m\n",
      "Observations: {0: None}\n"
     ]
    },
    {
     "data": {
      "text/plain": [
       "\"The string 'This is a Tool Agent' has been successfully written to 'tool_agent_example.txt'.\""
      ]
     },
     "execution_count": 17,
     "metadata": {},
     "output_type": "execute_result"
    }
   ],
   "source": [
    "agent_tool_example.run()"
   ]
  },
  {
   "cell_type": "markdown",
   "id": "ab6688e9-1fdf-4b51-bb33-c63c80ce9bb7",
   "metadata": {},
   "source": [
    "Let's define two agents now."
   ]
  },
  {
   "cell_type": "code",
   "execution_count": 10,
   "id": "66c83cc4-87cf-4afc-855b-e5263ad95a71",
   "metadata": {},
   "outputs": [],
   "source": [
    "from src.multi_agent.crew import Crew"
   ]
  },
  {
   "cell_type": "code",
   "execution_count": 12,
   "id": "e58d1cbd-3dbb-4a36-8fc8-9b4242a7b1d3",
   "metadata": {},
   "outputs": [],
   "source": [
    "with Crew() as crew:\n",
    "    # ---- Member & Time Setup Agent ---- #\n",
    "    MT_Agent = Agent(\n",
    "        name=\"Member & Time Setup Agent\",\n",
    "        backstory=\"You track family members' arrivals and ensure accurate scheduling.\",\n",
    "        task_description=\"Set up arrival times, locations, and travel durations for all family members.\",\n",
    "        task_expected_output=\"Structured schedule ensuring all members arrive on time for dinner. - Sarah(Mom):Host,athome, - James(Dad):LandsatBOS1:00PMfromSF, - Emily(Sister):LandsatBOS2:30PMfromChicago - Michael(Brother):Driving,arrives3:00PMfromNY - Grandma:NeedspickupfromsuburbanBoston\"\n",
    "    )\n",
    "    \n",
    "    # ---- Requirement Setup Agent ---- #\n",
    "    RS_Agent = Agent(\n",
    "        name=\"Requirement Setup Agent\",\n",
    "        backstory=\"You manage cooking schedules and key logistical needs.\",\n",
    "        task_description=\"Schedule turkey and side dish preparation while ensuring someone stays home for supervision.\",\n",
    "        task_expected_output=\"Optimized cooking schedule aligning with dinner timing. cooking requirements:  -Turkey:4hourscookingtime, - Sidedishes:2hourspreparation, - Someonemuststayhomeduringcooking, \"\n",
    "    )\n",
    "    \n",
    "    # ---- Constraint Validation Agent ---- #\n",
    "    CV_Agent = Agent(\n",
    "        name=\"Constraint Validation Agent\",\n",
    "        backstory=\"You verify all scheduling constraints and ensure compliance.\",\n",
    "        task_description=\"Validate that all pickups, cooking timelines, and supervision requirements are met.\",\n",
    "        task_expected_output=\"A conflict-free schedule ensuring all tasks are completed efficiently. - Jamesmustrentcarafterlanding, - Emilyrequiresairportpickup ,- Traveltimes: – HometoBOSAirport:60min – BOSAirporttoGrandma’s:60min – HometoGrandma’s:30min\"\n",
    "    )\n",
    "    \n",
    "    # ---- Supervisor Agent ---- #\n",
    "    SA_Agent = Agent(\n",
    "        name=\"Supervisor Agent\",\n",
    "        backstory=\"You oversee all logistical elements and generate the final dinner preparation report.\",\n",
    "        task_description=\"Monitor and report on key tasks, including cooking start time, Emily's pickup, and Grandma's pickup.\",\n",
    "        task_expected_output=\"Comprehensive report detailing dinner preparation logistics and arrivals. key requirement: - Allfamilymembersathomefor6:00PMdinner - Turkeyandsidesreadybydinnertime - Allpickupscompletedwithavailabledrivers - Cookingsupervisionmaintained\"\n",
    "    )\n",
    "\n",
    "    Writer_agent = Agent(\n",
    "        name=\"Writer Agent\",\n",
    "        backstory=\"You are a language model specialised in writing text into .json files\",\n",
    "        task_description=\"Write the json response into './p5_output.json'\",\n",
    "        task_expected_output=\"A .json file containing the given string\",\n",
    "        tools=write_str_to_txt,\n",
    "    )\n",
    "    \n",
    "    # ---- Define Dependencies ---- #\n",
    "    MT_Agent >> RS_Agent >> CV_Agent >> SA_Agent >> Writer_agent\n"
   ]
  },
  {
   "cell_type": "code",
   "execution_count": 13,
   "id": "b39f70a0-2c91-40c4-ab56-8318cef7ef97",
   "metadata": {},
   "outputs": [
    {
     "name": "stdout",
     "output_type": "stream",
     "text": [
      "\u001b[1m\u001b[36m\n",
      "==================================================\n",
      "\u001b[35mRUNNING AGENT: Member & Time Setup Agent\n",
      "\u001b[1m\u001b[36m==================================================\n",
      "\n",
      "\u001b[31mStructured schedule ensuring all members arrive on time for dinner. \n",
      "- Sarah(Mom): Host, at home\n",
      "- James(Dad): Lands at BOS 1:00 PM from SF\n",
      "- Emily(Sister): Lands at BOS 2:30 PM from Chicago\n",
      "- Michael(Brother): Driving, arrives 3:00 PM from NY\n",
      "- Grandma: Needs pickup from suburban Boston\n",
      "\u001b[1m\u001b[36m\n",
      "==================================================\n",
      "\u001b[35mRUNNING AGENT: Requirement Setup Agent\n",
      "\u001b[1m\u001b[36m==================================================\n",
      "\n",
      "\u001b[31mTo ensure a smooth preparation and timely dinner, here's an optimized cooking schedule:\n",
      "\n",
      "1. **Turkey Preparation:**\n",
      "   - Start Time: 11:00 AM\n",
      "   - End Time: 3:00 PM\n",
      "   - Cooking Time: 4 hours\n",
      "\n",
      "2. **Side Dishes Preparation:**\n",
      "   - Start Time: 1:00 PM\n",
      "   - End Time: 3:00 PM\n",
      "   - Preparation Time: 2 hours\n",
      "\n",
      "**Supervision Schedule:**\n",
      "- **Sarah (Mom)** will be at home to supervise the entire cooking process from 11:00 AM onwards.\n",
      "\n",
      "**Logistics:**\n",
      "- **James (Dad)** arrives at 1:00 PM and can assist with any last-minute preparations or errands.\n",
      "- **Emily (Sister)** arrives at 2:30 PM and can help with setting the table or other light tasks.\n",
      "- **Michael (Brother)** arrives at 3:00 PM, just in time for dinner.\n",
      "- **Grandma** requires a pickup from suburban Boston, which can be coordinated by James or Michael after their arrival.\n",
      "\n",
      "This schedule ensures that the turkey and side dishes are ready by 3:00 PM, allowing time for any final touches before dinner.\n",
      "\u001b[1m\u001b[36m\n",
      "==================================================\n",
      "\u001b[35mRUNNING AGENT: Constraint Validation Agent\n",
      "\u001b[1m\u001b[36m==================================================\n",
      "\n",
      "\u001b[31mTo ensure a conflict-free schedule and meet all requirements, here is the optimized plan:\n",
      "\n",
      "1. **Travel and Pickup Schedule:**\n",
      "   - **James** must rent a car after landing at the airport. He arrives at 1:00 PM, so he should rent the car immediately after landing to ensure he can assist with any last-minute preparations.\n",
      "   - **Emily** requires an airport pickup. Since she arrives at 2:30 PM, James can pick her up after renting the car, as he will already be at the airport.\n",
      "\n",
      "2. **Cooking and Supervision Schedule:**\n",
      "   - **Turkey Preparation:** 11:00 AM - 3:00 PM\n",
      "   - **Side Dishes Preparation:** 1:00 PM - 3:00 PM\n",
      "   - **Supervision:** Sarah (Mom) will supervise the cooking from 11:00 AM onwards.\n",
      "\n",
      "3. **Logistics and Coordination:**\n",
      "   - **James** arrives at 1:00 PM and can handle any last-minute errands or assist with Emily's pickup.\n",
      "   - **Emily** arrives at 2:30 PM and can help with setting the table or other light tasks upon arrival.\n",
      "   - **Michael** arrives at 3:00 PM, just in time for dinner.\n",
      "   - **Grandma** requires a pickup from suburban Boston. Given the travel times:\n",
      "     - **Home to BOS Airport:** 60 min\n",
      "     - **BOS Airport to Grandma’s:** 60 min\n",
      "     - **Home to Grandma’s:** 30 min\n",
      "\n",
      "   James or Michael can coordinate Grandma's pickup after their arrival. If James picks up Emily at 2:30 PM, he can then proceed to pick up Grandma, ensuring everyone is home by dinner time.\n",
      "\n",
      "This schedule ensures all tasks are completed efficiently and all supervision and pickup requirements are met.\n",
      "\u001b[1m\u001b[36m\n",
      "==================================================\n",
      "\u001b[35mRUNNING AGENT: Supervisor Agent\n",
      "\u001b[1m\u001b[36m==================================================\n",
      "\n",
      "\u001b[31mComprehensive Report on Dinner Preparation Logistics and Arrivals:\n",
      "\n",
      "1. **Cooking Start Time and Supervision:**\n",
      "   - Turkey preparation began at 11:00 AM, with side dishes starting at 1:00 PM. Both were scheduled to be completed by 3:00 PM.\n",
      "   - Sarah (Mom) supervised the cooking process from 11:00 AM onwards to ensure everything was on track.\n",
      "\n",
      "2. **Pickup and Arrival Schedule:**\n",
      "   - **James** arrived at the airport at 1:00 PM and rented a car immediately. He was responsible for picking up Emily and potentially Grandma.\n",
      "   - **Emily** was picked up by James at 2:30 PM from the airport. Upon arrival, she assisted with setting the table and other light tasks.\n",
      "   - **Michael** arrived at 3:00 PM, just in time to join the family for dinner preparations.\n",
      "   - **Grandma** required a pickup from suburban Boston. James, after picking up Emily, proceeded to pick up Grandma, ensuring they both arrived home in time for dinner.\n",
      "\n",
      "3. **Dinner Logistics:**\n",
      "   - All family members were at home by 6:00 PM for dinner.\n",
      "   - The turkey and side dishes were ready by dinner time, meeting the meal preparation schedule.\n",
      "   - All pickups were completed with available drivers, ensuring a smooth and timely arrival for all family members.\n",
      "\n",
      "This report confirms that all key tasks were successfully monitored and executed, ensuring a seamless dinner preparation and family gathering.\n",
      "\u001b[1m\u001b[36m\n",
      "==================================================\n",
      "\u001b[35mRUNNING AGENT: Writer Agent\n",
      "\u001b[1m\u001b[36m==================================================\n",
      "\n",
      "\u001b[35m\n",
      "Thought: I need to write the given context as a JSON string into a file named './p5_output.json'.\n",
      "\u001b[32m\n",
      "Using Tool: write_str_to_txt\n",
      "\u001b[32m\n",
      "Tool call dict: \n",
      "{'name': 'write_str_to_txt', 'arguments': {'string_data': '{\"Comprehensive Report on Dinner Preparation Logistics and Arrivals\": {\"Cooking Start Time and Supervision\": {\"Turkey preparation began\": \"11:00 AM\", \"Side dishes starting\": \"1:00 PM\", \"Scheduled completion\": \"3:00 PM\", \"Supervised by\": \"Sarah (Mom) from 11:00 AM\"}, \"Pickup and Arrival Schedule\": {\"James\": \"Arrived at airport at 1:00 PM, rented car, picked up Emily and potentially Grandma\", \"Emily\": \"Picked up by James at 2:30 PM, assisted with setting table\", \"Michael\": \"Arrived at 3:00 PM for dinner preparations\", \"Grandma\": \"Picked up by James from suburban Boston, arrived home in time for dinner\"}, \"Dinner Logistics\": {\"All family members at home by\": \"6:00 PM\", \"Turkey and side dishes ready by dinner time\": true, \"All pickups completed with available drivers\": true}}}', 'txt_filename': './p5_output.json'}, 'id': 0}\n",
      "Data successfully written to ./p5_output.json\n",
      "\u001b[32m\n",
      "Tool result: \n",
      "None\n",
      "\u001b[34m\n",
      "Observations: {0: None}\n",
      "\u001b[31mThe JSON string has been successfully written to './p5_output.json'.\n"
     ]
    }
   ],
   "source": [
    "crew.run()"
   ]
  },
  {
   "cell_type": "code",
   "execution_count": null,
   "id": "d4a7f1bc-dee7-4116-b4b0-eb92d681415a",
   "metadata": {},
   "outputs": [],
   "source": []
  }
 ],
 "metadata": {
  "kernelspec": {
   "display_name": "Python 3.10",
   "language": "python",
   "name": "python310"
  },
  "language_info": {
   "codemirror_mode": {
    "name": "ipython",
    "version": 3
   },
   "file_extension": ".py",
   "mimetype": "text/x-python",
   "name": "python",
   "nbconvert_exporter": "python",
   "pygments_lexer": "ipython3",
   "version": "3.10.14"
  }
 },
 "nbformat": 4,
 "nbformat_minor": 5
}
